{
 "cells": [
  {
   "cell_type": "code",
   "execution_count": 1,
   "metadata": {},
   "outputs": [
    {
     "name": "stdout",
     "output_type": "stream",
     "text": [
      "\n",
      "\u001b[1m[\u001b[0m\u001b[34;49mnotice\u001b[0m\u001b[1;39;49m]\u001b[0m\u001b[39;49m A new release of pip is available: \u001b[0m\u001b[31;49m23.2.1\u001b[0m\u001b[39;49m -> \u001b[0m\u001b[32;49m25.0.1\u001b[0m\n",
      "\u001b[1m[\u001b[0m\u001b[34;49mnotice\u001b[0m\u001b[1;39;49m]\u001b[0m\u001b[39;49m To update, run: \u001b[0m\u001b[32;49mpip install --upgrade pip\u001b[0m\n",
      "Note: you may need to restart the kernel to use updated packages.\n"
     ]
    }
   ],
   "source": [
    "%pip install -qU langchain duckduckgo-search langchain-community"
   ]
  },
  {
   "cell_type": "code",
   "execution_count": 2,
   "metadata": {},
   "outputs": [
    {
     "data": {
      "text/plain": [
       "'snippet: Barack Obama (born August 4, 1961, Honolulu, Hawaii, U.S.) is the 44th president of the United States (2009-17) and the first African American to hold the office. Before winning the presidency, Obama represented Illinois in the U.S. Senate (2005-08)., title: Barack Obama | Biography, Parents, Education, Presidency, Books ..., link: https://www.britannica.com/biography/Barack-Obama, snippet: Michelle LaVaughn Robinson Obama [1] (née Robinson; born January 17, 1964) is an American attorney and author who served as the first lady of the United States from 2009 to 2017, being married to Barack Obama, the 44th president of the United States., title: Michelle Obama - Wikipedia, link: https://en.wikipedia.org/wiki/Michelle_Obama, snippet: Barack Obama served as the 44th president of the United States (2009-17) and was the first African American to hold that post. A member of the Democratic Party, Obama previously represented Illinois in the U.S. Senate from 2005 to 2008., title: Barack Obama Facts | Britannica, link: https://www.britannica.com/facts/Barack-Obama, snippet: Former President Barack Obama and ex-first lady Michelle Obama on Wednesday released a statement regarding the 2024 election. President-elect Donald Trump stormed to an election victory on..., title: Obamas Release Statement on Election: Read Full Message, link: https://www.newsweek.com/obamas-release-statement-2024-election-read-full-message-1981773'"
      ]
     },
     "execution_count": 2,
     "metadata": {},
     "output_type": "execute_result"
    }
   ],
   "source": [
    "from langchain_community.tools import DuckDuckGoSearchResults\n",
    "\n",
    "search = DuckDuckGoSearchResults()\n",
    "\n",
    "search.invoke(\"Obama\")"
   ]
  },
  {
   "cell_type": "code",
   "execution_count": 12,
   "metadata": {},
   "outputs": [
    {
     "name": "stdout",
     "output_type": "stream",
     "text": [
      "Final Output: {'is_simple': False, 'queries': ['Here are the broken-down search queries:', '', '* \"quantum mechanics definition\"', '* \"what is quantum mechanics\"', '* \"quantum mechanics principles\"', '* \"how does quantum mechanics work\"', '* \"impact of quantum mechanics on technology\"', '* \"modern technology using quantum mechanics\"', '* \"applications of quantum mechanics\"', '* \"quantum mechanics in computing\"', '* \"quantum mechanics in communication\"', '* \"quantum mechanics in medicine\"']}\n"
     ]
    }
   ],
   "source": [
    "import os\n",
    "import getpass\n",
    "from langchain.llms import OpenAI\n",
    "from langchain.chains import LLMChain\n",
    "from langchain.prompts import PromptTemplate\n",
    "from langchain_core.tools import tool\n",
    "\n",
    "# Initialize OpenAI (or Groq) API Key\n",
    "if not os.environ.get(\"GROQ_API_KEY\"):\n",
    "    os.environ[\"GROQ_API_KEY\"] = getpass.getpass(\"Enter API key for Groq:\")\n",
    "\n",
    "from langchain.chat_models import init_chat_model\n",
    "\n",
    "llm = init_chat_model(\"llama3-8b-8192\", model_provider=\"groq\")\n",
    "\n",
    "def is_simple(input_text: str) -> bool:\n",
    "    \"\"\"Determine whether the input is simple.\"\"\"\n",
    "    prompt = PromptTemplate(\n",
    "        input_variables=[\"text\"],\n",
    "        template=\"\"\"\n",
    "        Given the following input: \"{text}\", determine whether it is simple.\n",
    "        Reply with 'yes' for simple and 'no' for complex.\n",
    "        \"\"\"\n",
    "    )  \n",
    "    chain = LLMChain(llm=llm, prompt=prompt)\n",
    "    response = chain.run(text=input_text).strip().lower()\n",
    "    return response == \"yes\"\n",
    "\n",
    "def split_into_simple_queries(input_text: str) -> list:\n",
    "    \"\"\"Splits complex input into multiple simple queries for a search engine tool.\"\"\"\n",
    "    prompt = PromptTemplate(\n",
    "        input_variables=[\"text\"],\n",
    "        template=\"\"\"\n",
    "        Break down the following complex question into multiple simpler search queries, break them down\n",
    "        that can be used with a search engine, do not add extra text:\n",
    "        \"{text}\"\n",
    "        \"\"\"\n",
    "    )\n",
    "    chain = LLMChain(llm=llm, prompt=prompt)\n",
    "    return chain.run(text=input_text).strip().split('\\n')\n",
    "\n",
    "@tool\n",
    "def process_query(input_text: str):\n",
    "    \"\"\"Decides if the query is simple or complex and processes accordingly for a search engine tool.\"\"\"\n",
    "    if is_simple(input_text):\n",
    "        return {\"is_simple\": True,\"queries\": [input_text]}\n",
    "    else:\n",
    "        return {\"is_simple\": False ,\"queries\": split_into_simple_queries(input_text)}\n",
    "\n",
    "# Example Usage\n",
    "if __name__ == \"__main__\":\n",
    "    user_input = \"Explain quantum mechanics and its impact on modern technology.\"\n",
    "    result = process_query(user_input)\n",
    "    print(\"Final Output:\", result)\n"
   ]
  },
  {
   "cell_type": "code",
   "execution_count": 14,
   "metadata": {},
   "outputs": [
    {
     "name": "stdout",
     "output_type": "stream",
     "text": [
      "Final Output: {'requires_search': False, 'query': ['What is the colour of Irish flag?']}\n"
     ]
    }
   ],
   "source": [
    "import os\n",
    "import getpass\n",
    "from langchain.chains import LLMChain\n",
    "from langchain.prompts import PromptTemplate\n",
    "from langchain_core.tools import tool\n",
    "\n",
    "# Initialize OpenAI (or Groq) API Key\n",
    "if not os.environ.get(\"GROQ_API_KEY\"):\n",
    "    os.environ[\"GROQ_API_KEY\"] = getpass.getpass(\"Enter API key for Groq:\")\n",
    "\n",
    "from langchain.chat_models import init_chat_model\n",
    "\n",
    "llm = init_chat_model(\"llama3-8b-8192\", model_provider=\"groq\")\n",
    "\n",
    "def is_searchable(input_text: str) -> bool:\n",
    "    \"\"\"Determine whether the input requires a search engine.\"\"\"\n",
    "    prompt = PromptTemplate(\n",
    "        input_variables=[\"text\"],\n",
    "        template=\"\"\"\n",
    "        Determine if the following input requires real-time information from a search engine:\n",
    "        \n",
    "        Examples:\n",
    "        - \"What is the capital of France?\" -> Not Searchable\n",
    "        - \"Who is the current president of the United States?\" -> Searchable\n",
    "        - \"Explain quantum mechanics.\" -> Not Searchable\n",
    "        - \"What happened yesterday in the stock market of the USA?\" -> Searchable\n",
    "        - \"Tell me about the history of the Roman Empire.\" -> Not Searchable\n",
    "        - \"What are the latest updates on AI regulation?\" -> Searchable\n",
    "        \n",
    "        Given the input: \"{text}\", reply with 'yes' if it requires a search engine or 'no' if it does not.\n",
    "        \"\"\"\n",
    "    )  \n",
    "    chain = LLMChain(llm=llm, prompt=prompt)\n",
    "    response = chain.run(text=input_text).strip().lower()\n",
    "    return response == \"yes\"\n",
    "\n",
    "\n",
    "@tool\n",
    "def process_query(input_text: str):\n",
    "    \"\"\"Determines if a query requires a search engine and processes accordingly.\"\"\"\n",
    "    if is_searchable(input_text):\n",
    "        return {\"requires_search\": True, \"query\": [input_text]}\n",
    "    else:\n",
    "        return {\"requires_search\": False, \"query\": [input_text]}\n",
    "    \n",
    "user_input = \"What is the colour of Irish flag?\"\n",
    "result = process_query(user_input)\n",
    "print(\"Final Output:\", result)"
   ]
  }
 ],
 "metadata": {
  "kernelspec": {
   "display_name": "venv",
   "language": "python",
   "name": "python3"
  },
  "language_info": {
   "codemirror_mode": {
    "name": "ipython",
    "version": 3
   },
   "file_extension": ".py",
   "mimetype": "text/x-python",
   "name": "python",
   "nbconvert_exporter": "python",
   "pygments_lexer": "ipython3",
   "version": "3.12.0"
  }
 },
 "nbformat": 4,
 "nbformat_minor": 2
}
